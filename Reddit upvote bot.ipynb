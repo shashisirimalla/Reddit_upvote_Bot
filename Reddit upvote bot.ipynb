{
 "cells": [
  {
   "cell_type": "markdown",
   "id": "492cd29f",
   "metadata": {},
   "source": [
    "# Reddit Upvote Bot\n"
   ]
  },
  {
   "cell_type": "markdown",
   "id": "4c778269",
   "metadata": {},
   "source": [
    "The Reddit Upvote Bot is a Python script that allows you to upvote (or downvote) all comments and submissions made by a specific Redditor."
   ]
  },
  {
   "cell_type": "markdown",
   "id": "295b9992",
   "metadata": {},
   "source": [
    "# Installation"
   ]
  },
  {
   "cell_type": "markdown",
   "id": "ff14c56e",
   "metadata": {},
   "source": [
    "To use the Reddit Upvote Bot, you'll need to have Python 3 installed on your computer. You can download Python 3 from the official website: https://www.python.org/downloads/\n",
    "\n",
    "Once you have Python 3 installed, you'll need to install the following packages:\n",
    "\n",
    "praw\n",
    "time"
   ]
  },
  {
   "cell_type": "markdown",
   "id": "5053c3c0",
   "metadata": {},
   "source": [
    "You can install these packages using pip, the Python package installer. Simply run the following command in your terminal:"
   ]
  },
  {
   "cell_type": "markdown",
   "id": "073f9716",
   "metadata": {},
   "source": [
    "pip install praw time\n"
   ]
  },
  {
   "cell_type": "markdown",
   "id": "e6807600",
   "metadata": {},
   "source": [
    "# Usage"
   ]
  },
  {
   "cell_type": "markdown",
   "id": "626ff145",
   "metadata": {},
   "source": [
    "To use the Reddit Upvote Bot, you'll need to provide your Reddit API credentials (client ID, client secret, username, and password) as well as the name of the Redditor whose comments and submissions you want to upvote.\n",
    "\n",
    "You can provide these credentials by editing the main() function in the upvote-bot.py script. Simply replace the placeholders with your own API credentials and the Redditor's username"
   ]
  },
  {
   "cell_type": "markdown",
   "id": "e0134cda",
   "metadata": {},
   "source": [
    "client_id = \"your_client_id\"\n",
    "client_secret = \"your_client_secret\"\n",
    "username = \"your_username\"\n",
    "password = \"your_password\"\n",
    "target = \"redditor_username\"\n",
    "bot = RedditBot(username, password, client_id, client_secret, target)\n"
   ]
  },
  {
   "cell_type": "code",
   "execution_count": null,
   "id": "4906475e",
   "metadata": {},
   "outputs": [],
   "source": []
  }
 ],
 "metadata": {
  "kernelspec": {
   "display_name": "Python 3 (ipykernel)",
   "language": "python",
   "name": "python3"
  },
  "language_info": {
   "codemirror_mode": {
    "name": "ipython",
    "version": 3
   },
   "file_extension": ".py",
   "mimetype": "text/x-python",
   "name": "python",
   "nbconvert_exporter": "python",
   "pygments_lexer": "ipython3",
   "version": "3.9.13"
  }
 },
 "nbformat": 4,
 "nbformat_minor": 5
}
